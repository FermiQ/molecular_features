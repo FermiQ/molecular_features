{
 "cells": [
  {
   "cell_type": "code",
   "execution_count": 14,
   "id": "changing-giant",
   "metadata": {},
   "outputs": [],
   "source": [
    "import numpy as np\n",
    "import rdkit\n",
    "from rdkit.Chem import Draw\n",
    "from rdkit.Chem import AllChem\n",
    "from molreps.graph import MolGraph\n",
    "import networkx as nx\n",
    "from molreps.methods.mol_py3d import MolTo3DView"
   ]
  },
  {
   "cell_type": "code",
   "execution_count": 15,
   "id": "alone-medication",
   "metadata": {},
   "outputs": [
    {
     "data": {
      "image/png": "[encoded data removed]",
      "text/plain": [
       "<rdkit.Chem.rdchem.Mol at 0x21a3815d700>"
      ]
     },
     "execution_count": 15,
     "metadata": {},
     "output_type": "execute_result"
    }
   ],
   "source": [
    "smile = \"C\\C=C(/F)\\C(=C\\F)\\C=C\"\n",
    "# smile = 'CC(C)(C)NC[C@@H](C1=CC(=C(C=C1)O)CO)O'\n",
    "m = rdkit.Chem.MolFromSmiles(smile)\n",
    "m = rdkit.Chem.AddHs(m) # add H's to the molecule\n",
    "# rdkit.Chem.AssignStereochemistry(m) # Assign Stereochemistry\n",
    "rdkit.Chem.FindPotentialStereo(m) # Assign Stereochemistry new method\n",
    "m"
   ]
  },
  {
   "cell_type": "code",
   "execution_count": 16,
   "id": "flexible-economics",
   "metadata": {},
   "outputs": [
    {
     "data": {
      "application/3dmoljs_load.v0": "<div id=\"3dmolviewer_16192676910035083\"  style=\"position: relative; width: 300px; height: 300px\">\n        <p id=\"3dmolwarning_16192676910035083\" style=\"background-color:#ffcccc;color:black\">You appear to be running in JupyterLab (or JavaScript failed to load for some other reason).  You need to install the 3dmol extension: <br>\n        <tt>jupyter labextension install jupyterlab_3dmol</tt></p>\n        </div>\n<script>\n\nvar loadScriptAsync = function(uri){\n  return new Promise((resolve, reject) => {\n    var tag = document.createElement('script');\n    tag.src = uri;\n    tag.async = true;\n    tag.onload = () => {\n      resolve();\n    };\n  var firstScriptTag = document.getElementsByTagName('script')[0];\n  firstScriptTag.parentNode.insertBefore(tag, firstScriptTag);\n});\n};\n\nif(typeof $3Dmolpromise === 'undefined') {\n$3Dmolpromise = null;\n  $3Dmolpromise = loadScriptAsync('https://3dmol.org/build/3Dmol.js');\n}\n\nvar viewer_16192676910035083 = null;\nvar warn = document.getElementById(\"3dmolwarning_16192676910035083\");\nif(warn) {\n    warn.parentNode.removeChild(warn);\n}\n$3Dmolpromise.then(function() {\nviewer_16192676910035083 = $3Dmol.createViewer($(\"#3dmolviewer_16192676910035083\"),{backgroundColor:\"white\"});\nviewer_16192676910035083.zoomTo();\n\tviewer_16192676910035083.addModel(\"\\n     RDKit          3D\\n\\n 17 16  0  0  0  0  0  0  0  0999 V2000\\n    2.3468   -0.3860   -1.3556 C   0  0  0  0  0  0  0  0  0  0  0  0\\n    0.9670   -0.1320   -0.8448 C   0  0  0  0  0  0  0  0  0  0  0  0\\n    0.5035   -0.5867    0.3291 C   0  0  0  0  0  0  0  0  0  0  0  0\\n    1.3262   -1.3470    1.0907 F   0  0  0  0  0  0  0  0  0  0  0  0\\n   -0.8456   -0.3706    0.8503 C   0  0  0  0  0  0  0  0  0  0  0  0\\n   -1.3580   -1.3396    1.6264 C   0  0  0  0  0  0  0  0  0  0  0  0\\n   -2.5969   -1.2768    2.1541 F   0  0  0  0  0  0  0  0  0  0  0  0\\n   -1.6947    0.7852    0.5651 C   0  0  0  0  0  0  0  0  0  0  0  0\\n   -1.2622    2.0431    0.4054 C   0  0  0  0  0  0  0  0  0  0  0  0\\n    2.9489   -0.9817   -0.6628 H   0  0  0  0  0  0  0  0  0  0  0  0\\n    2.2975   -0.9205   -2.3092 H   0  0  0  0  0  0  0  0  0  0  0  0\\n    2.8620    0.5651   -1.5216 H   0  0  0  0  0  0  0  0  0  0  0  0\\n    0.3211    0.4525   -1.4941 H   0  0  0  0  0  0  0  0  0  0  0  0\\n   -0.8682   -2.2582    1.9195 H   0  0  0  0  0  0  0  0  0  0  0  0\\n   -2.7671    0.5960    0.5196 H   0  0  0  0  0  0  0  0  0  0  0  0\\n   -0.2127    2.3107    0.4762 H   0  0  0  0  0  0  0  0  0  0  0  0\\n   -1.9676    2.8466    0.2170 H   0  0  0  0  0  0  0  0  0  0  0  0\\n  1  2  1  0\\n  2  3  2  0\\n  3  4  1  0\\n  3  5  1  0\\n  5  6  2  0\\n  6  7  1  0\\n  5  8  1  0\\n  8  9  2  0\\n  1 10  1  0\\n  1 11  1  0\\n  1 12  1  0\\n  2 13  1  0\\n  6 14  1  0\\n  8 15  1  0\\n  9 16  1  0\\n  9 17  1  0\\nM  END\\n\",\"mol\");\n\tviewer_16192676910035083.setStyle({\"stick\": {}});\n\tviewer_16192676910035083.zoomTo();\nviewer_16192676910035083.render();\n});\n</script>",
      "text/html": [
       "<div id=\"3dmolviewer_16192676910035083\"  style=\"position: relative; width: 300px; height: 300px\">\n",
       "        <p id=\"3dmolwarning_16192676910035083\" style=\"background-color:#ffcccc;color:black\">You appear to be running in JupyterLab (or JavaScript failed to load for some other reason).  You need to install the 3dmol extension: <br>\n",
       "        <tt>jupyter labextension install jupyterlab_3dmol</tt></p>\n",
       "        </div>\n",
       "<script>\n",
       "\n",
       "var loadScriptAsync = function(uri){\n",
       "  return new Promise((resolve, reject) => {\n",
       "    var tag = document.createElement('script');\n",
       "    tag.src = uri;\n",
       "    tag.async = true;\n",
       "    tag.onload = () => {\n",
       "      resolve();\n",
       "    };\n",
       "  var firstScriptTag = document.getElementsByTagName('script')[0];\n",
       "  firstScriptTag.parentNode.insertBefore(tag, firstScriptTag);\n",
       "});\n",
       "};\n",
       "\n",
       "if(typeof $3Dmolpromise === 'undefined') {\n",
       "$3Dmolpromise = null;\n",
       "  $3Dmolpromise = loadScriptAsync('https://3dmol.org/build/3Dmol.js');\n",
       "}\n",
       "\n",
       "var viewer_16192676910035083 = null;\n",
       "var warn = document.getElementById(\"3dmolwarning_16192676910035083\");\n",
       "if(warn) {\n",
       "    warn.parentNode.removeChild(warn);\n",
       "}\n",
       "$3Dmolpromise.then(function() {\n",
       "viewer_16192676910035083 = $3Dmol.createViewer($(\"#3dmolviewer_16192676910035083\"),{backgroundColor:\"white\"});\n",
       "viewer_16192676910035083.zoomTo();\n",
       "\tviewer_16192676910035083.addModel(\"\\n     RDKit          3D\\n\\n 17 16  0  0  0  0  0  0  0  0999 V2000\\n    2.3468   -0.3860   -1.3556 C   0  0  0  0  0  0  0  0  0  0  0  0\\n    0.9670   -0.1320   -0.8448 C   0  0  0  0  0  0  0  0  0  0  0  0\\n    0.5035   -0.5867    0.3291 C   0  0  0  0  0  0  0  0  0  0  0  0\\n    1.3262   -1.3470    1.0907 F   0  0  0  0  0  0  0  0  0  0  0  0\\n   -0.8456   -0.3706    0.8503 C   0  0  0  0  0  0  0  0  0  0  0  0\\n   -1.3580   -1.3396    1.6264 C   0  0  0  0  0  0  0  0  0  0  0  0\\n   -2.5969   -1.2768    2.1541 F   0  0  0  0  0  0  0  0  0  0  0  0\\n   -1.6947    0.7852    0.5651 C   0  0  0  0  0  0  0  0  0  0  0  0\\n   -1.2622    2.0431    0.4054 C   0  0  0  0  0  0  0  0  0  0  0  0\\n    2.9489   -0.9817   -0.6628 H   0  0  0  0  0  0  0  0  0  0  0  0\\n    2.2975   -0.9205   -2.3092 H   0  0  0  0  0  0  0  0  0  0  0  0\\n    2.8620    0.5651   -1.5216 H   0  0  0  0  0  0  0  0  0  0  0  0\\n    0.3211    0.4525   -1.4941 H   0  0  0  0  0  0  0  0  0  0  0  0\\n   -0.8682   -2.2582    1.9195 H   0  0  0  0  0  0  0  0  0  0  0  0\\n   -2.7671    0.5960    0.5196 H   0  0  0  0  0  0  0  0  0  0  0  0\\n   -0.2127    2.3107    0.4762 H   0  0  0  0  0  0  0  0  0  0  0  0\\n   -1.9676    2.8466    0.2170 H   0  0  0  0  0  0  0  0  0  0  0  0\\n  1  2  1  0\\n  2  3  2  0\\n  3  4  1  0\\n  3  5  1  0\\n  5  6  2  0\\n  6  7  1  0\\n  5  8  1  0\\n  8  9  2  0\\n  1 10  1  0\\n  1 11  1  0\\n  1 12  1  0\\n  2 13  1  0\\n  6 14  1  0\\n  8 15  1  0\\n  9 16  1  0\\n  9 17  1  0\\nM  END\\n\",\"mol\");\n",
       "\tviewer_16192676910035083.setStyle({\"stick\": {}});\n",
       "\tviewer_16192676910035083.zoomTo();\n",
       "viewer_16192676910035083.render();\n",
       "});\n",
       "</script>"
      ]
     },
     "metadata": {},
     "output_type": "display_data"
    },
    {
     "data": {
      "text/plain": [
       "<py3Dmol.view at 0x21a7e0dbd60>"
      ]
     },
     "execution_count": 16,
     "metadata": {},
     "output_type": "execute_result"
    }
   ],
   "source": [
    "# If no coordinates are known, do embedding with rdkit\n",
    "AllChem.EmbedMolecule(m)\n",
    "AllChem.MMFFOptimizeMolecule(m)\n",
    "MolTo3DView(m)"
   ]
  },
  {
   "cell_type": "code",
   "execution_count": 17,
   "id": "coated-patient",
   "metadata": {},
   "outputs": [
    {
     "data": {
      "text/plain": [
       "{'rdkit': {'nodes': ['proton',\n",
       "   'symbol',\n",
       "   'exp_Hs',\n",
       "   'imp_Hs',\n",
       "   'aromatic',\n",
       "   'degree',\n",
       "   'valence',\n",
       "   'mass',\n",
       "   'in_ring',\n",
       "   'hybridization',\n",
       "   'chiral'],\n",
       "  'edges': ['bond',\n",
       "   'is_aromatic',\n",
       "   'is_conjugated',\n",
       "   'in_ring',\n",
       "   'distance',\n",
       "   'stereo'],\n",
       "  'state': ['mol_weight', 'size']}}"
      ]
     },
     "execution_count": 17,
     "metadata": {},
     "output_type": "execute_result"
    }
   ],
   "source": [
    "# Preimplemented features\n",
    "mgraph = MolGraph(m)\n",
    "mgraph._mols_implemented"
   ]
  },
  {
   "cell_type": "code",
   "execution_count": 18,
   "id": "vocational-clinic",
   "metadata": {},
   "outputs": [
    {
     "data": {
      "image/png": "[encoded data removed]",
      "text/plain": [
       "<Figure size 432x288 with 1 Axes>"
      ]
     },
     "metadata": {},
     "output_type": "display_data"
    }
   ],
   "source": [
    "mgraph.make(nodes=['proton','aromatic','valence','chiral','hybridization'], \n",
    "            edges=['bond','distance','stereo','in_ring'],\n",
    "            state=['size'])\n",
    "nx.draw(mgraph,with_labels=True)"
   ]
  },
  {
   "cell_type": "code",
   "execution_count": 19,
   "id": "moderate-experience",
   "metadata": {},
   "outputs": [
    {
     "data": {
      "text/plain": [
       "EdgeDataView([(0, 1, {'bond': rdkit.Chem.rdchem.BondType.SINGLE, 'distance': 1.4931292211572746, 'stereo': rdkit.Chem.rdchem.BondStereo.STEREONONE, 'in_ring': False}), (0, 9, {'bond': rdkit.Chem.rdchem.BondType.SINGLE, 'distance': 1.094198072633983, 'stereo': rdkit.Chem.rdchem.BondStereo.STEREONONE, 'in_ring': False}), (0, 10, {'bond': rdkit.Chem.rdchem.BondType.SINGLE, 'distance': 1.094318371286854, 'stereo': rdkit.Chem.rdchem.BondStereo.STEREONONE, 'in_ring': False}), (0, 11, {'bond': rdkit.Chem.rdchem.BondType.SINGLE, 'distance': 1.0943361265658895, 'stereo': rdkit.Chem.rdchem.BondStereo.STEREONONE, 'in_ring': False}), (1, 2, {'bond': rdkit.Chem.rdchem.BondType.DOUBLE, 'distance': 1.3415072939737196, 'stereo': rdkit.Chem.rdchem.BondStereo.STEREOZ, 'in_ring': False}), (1, 12, {'bond': rdkit.Chem.rdchem.BondType.SINGLE, 'distance': 1.0864624226410542, 'stereo': rdkit.Chem.rdchem.BondStereo.STEREONONE, 'in_ring': False}), (2, 3, {'bond': rdkit.Chem.rdchem.BondType.SINGLE, 'distance': 1.354621845813826, 'stereo': rdkit.Chem.rdchem.BondStereo.STEREONONE, 'in_ring': False}), (2, 4, {'bond': rdkit.Chem.rdchem.BondType.SINGLE, 'distance': 1.4623010438521031, 'stereo': rdkit.Chem.rdchem.BondStereo.STEREONONE, 'in_ring': False}), (4, 5, {'bond': rdkit.Chem.rdchem.BondType.DOUBLE, 'distance': 1.3430431862602383, 'stereo': rdkit.Chem.rdchem.BondStereo.STEREOE, 'in_ring': False}), (4, 7, {'bond': rdkit.Chem.rdchem.BondType.SINGLE, 'distance': 1.4623255422290333, 'stereo': rdkit.Chem.rdchem.BondStereo.STEREONONE, 'in_ring': False}), (5, 6, {'bond': rdkit.Chem.rdchem.BondType.SINGLE, 'distance': 1.3480585041576492, 'stereo': rdkit.Chem.rdchem.BondStereo.STEREONONE, 'in_ring': False}), (5, 13, {'bond': rdkit.Chem.rdchem.BondType.SINGLE, 'distance': 1.081516594836002, 'stereo': rdkit.Chem.rdchem.BondStereo.STEREONONE, 'in_ring': False}), (7, 8, {'bond': rdkit.Chem.rdchem.BondType.DOUBLE, 'distance': 1.339761751770756, 'stereo': rdkit.Chem.rdchem.BondStereo.STEREONONE, 'in_ring': False}), (7, 14, {'bond': rdkit.Chem.rdchem.BondType.SINGLE, 'distance': 1.0899011082504793, 'stereo': rdkit.Chem.rdchem.BondStereo.STEREONONE, 'in_ring': False}), (8, 15, {'bond': rdkit.Chem.rdchem.BondType.SINGLE, 'distance': 1.085347942765092, 'stereo': rdkit.Chem.rdchem.BondStereo.STEREONONE, 'in_ring': False}), (8, 16, {'bond': rdkit.Chem.rdchem.BondType.SINGLE, 'distance': 1.0857033094438882, 'stereo': rdkit.Chem.rdchem.BondStereo.STEREONONE, 'in_ring': False})])"
      ]
     },
     "execution_count": 19,
     "metadata": {},
     "output_type": "execute_result"
    }
   ],
   "source": [
    "mgraph.edges.data()"
   ]
  },
  {
   "cell_type": "code",
   "execution_count": 20,
   "id": "lonely-deposit",
   "metadata": {},
   "outputs": [
    {
     "data": {
      "text/plain": [
       "NodeDataView({0: {'proton': 6, 'aromatic': False, 'valence': 4, 'chiral': rdkit.Chem.rdchem.ChiralType.CHI_UNSPECIFIED, 'hybridization': rdkit.Chem.rdchem.HybridizationType.SP3}, 1: {'proton': 6, 'aromatic': False, 'valence': 4, 'chiral': rdkit.Chem.rdchem.ChiralType.CHI_UNSPECIFIED, 'hybridization': rdkit.Chem.rdchem.HybridizationType.SP2}, 2: {'proton': 6, 'aromatic': False, 'valence': 4, 'chiral': rdkit.Chem.rdchem.ChiralType.CHI_UNSPECIFIED, 'hybridization': rdkit.Chem.rdchem.HybridizationType.SP2}, 3: {'proton': 9, 'aromatic': False, 'valence': 1, 'chiral': rdkit.Chem.rdchem.ChiralType.CHI_UNSPECIFIED, 'hybridization': rdkit.Chem.rdchem.HybridizationType.SP3}, 4: {'proton': 6, 'aromatic': False, 'valence': 4, 'chiral': rdkit.Chem.rdchem.ChiralType.CHI_UNSPECIFIED, 'hybridization': rdkit.Chem.rdchem.HybridizationType.SP2}, 5: {'proton': 6, 'aromatic': False, 'valence': 4, 'chiral': rdkit.Chem.rdchem.ChiralType.CHI_UNSPECIFIED, 'hybridization': rdkit.Chem.rdchem.HybridizationType.SP2}, 6: {'proton': 9, 'aromatic': False, 'valence': 1, 'chiral': rdkit.Chem.rdchem.ChiralType.CHI_UNSPECIFIED, 'hybridization': rdkit.Chem.rdchem.HybridizationType.SP3}, 7: {'proton': 6, 'aromatic': False, 'valence': 4, 'chiral': rdkit.Chem.rdchem.ChiralType.CHI_UNSPECIFIED, 'hybridization': rdkit.Chem.rdchem.HybridizationType.SP2}, 8: {'proton': 6, 'aromatic': False, 'valence': 4, 'chiral': rdkit.Chem.rdchem.ChiralType.CHI_UNSPECIFIED, 'hybridization': rdkit.Chem.rdchem.HybridizationType.SP2}, 9: {'proton': 1, 'aromatic': False, 'valence': 1, 'chiral': rdkit.Chem.rdchem.ChiralType.CHI_UNSPECIFIED, 'hybridization': rdkit.Chem.rdchem.HybridizationType.UNSPECIFIED}, 10: {'proton': 1, 'aromatic': False, 'valence': 1, 'chiral': rdkit.Chem.rdchem.ChiralType.CHI_UNSPECIFIED, 'hybridization': rdkit.Chem.rdchem.HybridizationType.UNSPECIFIED}, 11: {'proton': 1, 'aromatic': False, 'valence': 1, 'chiral': rdkit.Chem.rdchem.ChiralType.CHI_UNSPECIFIED, 'hybridization': rdkit.Chem.rdchem.HybridizationType.UNSPECIFIED}, 12: {'proton': 1, 'aromatic': False, 'valence': 1, 'chiral': rdkit.Chem.rdchem.ChiralType.CHI_UNSPECIFIED, 'hybridization': rdkit.Chem.rdchem.HybridizationType.UNSPECIFIED}, 13: {'proton': 1, 'aromatic': False, 'valence': 1, 'chiral': rdkit.Chem.rdchem.ChiralType.CHI_UNSPECIFIED, 'hybridization': rdkit.Chem.rdchem.HybridizationType.UNSPECIFIED}, 14: {'proton': 1, 'aromatic': False, 'valence': 1, 'chiral': rdkit.Chem.rdchem.ChiralType.CHI_UNSPECIFIED, 'hybridization': rdkit.Chem.rdchem.HybridizationType.UNSPECIFIED}, 15: {'proton': 1, 'aromatic': False, 'valence': 1, 'chiral': rdkit.Chem.rdchem.ChiralType.CHI_UNSPECIFIED, 'hybridization': rdkit.Chem.rdchem.HybridizationType.UNSPECIFIED}, 16: {'proton': 1, 'aromatic': False, 'valence': 1, 'chiral': rdkit.Chem.rdchem.ChiralType.CHI_UNSPECIFIED, 'hybridization': rdkit.Chem.rdchem.HybridizationType.UNSPECIFIED}})"
      ]
     },
     "execution_count": 20,
     "metadata": {},
     "output_type": "execute_result"
    }
   ],
   "source": [
    "mgraph.nodes.data()"
   ]
  },
  {
   "cell_type": "code",
   "execution_count": 21,
   "id": "exotic-distance",
   "metadata": {},
   "outputs": [
    {
     "data": {
      "text/plain": [
       "{'size': 17}"
      ]
     },
     "execution_count": 21,
     "metadata": {},
     "output_type": "execute_result"
    }
   ],
   "source": [
    "mgraph._graph_state"
   ]
  },
  {
   "cell_type": "code",
   "execution_count": 22,
   "id": "unsigned-architect",
   "metadata": {},
   "outputs": [
    {
     "data": {
      "text/plain": [
       "array([[6, 0, 4, 0, 4],\n",
       "       [6, 0, 4, 0, 3],\n",
       "       [6, 0, 4, 0, 3],\n",
       "       [9, 0, 1, 0, 4],\n",
       "       [6, 0, 4, 0, 3],\n",
       "       [6, 0, 4, 0, 3],\n",
       "       [9, 0, 1, 0, 4],\n",
       "       [6, 0, 4, 0, 3],\n",
       "       [6, 0, 4, 0, 3],\n",
       "       [1, 0, 1, 0, 0],\n",
       "       [1, 0, 1, 0, 0],\n",
       "       [1, 0, 1, 0, 0],\n",
       "       [1, 0, 1, 0, 0],\n",
       "       [1, 0, 1, 0, 0],\n",
       "       [1, 0, 1, 0, 0],\n",
       "       [1, 0, 1, 0, 0],\n",
       "       [1, 0, 1, 0, 0]])"
      ]
     },
     "execution_count": 22,
     "metadata": {},
     "output_type": "execute_result"
    }
   ],
   "source": [
    "graph_tensors = mgraph.to_tensor(nodes=['proton','aromatic','valence','chiral','hybridization'], \n",
    "                                edges=['bond','distance','stereo','in_ring'],\n",
    "                                state=['size'])\n",
    "graph_tensors['nodes']"
   ]
  },
  {
   "cell_type": "code",
   "execution_count": 23,
   "id": "dramatic-midwest",
   "metadata": {},
   "outputs": [
    {
     "data": {
      "text/plain": [
       "array([[1.        , 1.49312922, 0.        , 0.        ],\n",
       "       [1.        , 1.09419807, 0.        , 0.        ],\n",
       "       [1.        , 1.09431837, 0.        , 0.        ],\n",
       "       [1.        , 1.09433613, 0.        , 0.        ],\n",
       "       [2.        , 1.34150729, 2.        , 0.        ],\n",
       "       [1.        , 1.08646242, 0.        , 0.        ],\n",
       "       [1.        , 1.49312922, 0.        , 0.        ],\n",
       "       [1.        , 1.35462185, 0.        , 0.        ],\n",
       "       [1.        , 1.46230104, 0.        , 0.        ],\n",
       "       [2.        , 1.34150729, 2.        , 0.        ],\n",
       "       [1.        , 1.35462185, 0.        , 0.        ],\n",
       "       [2.        , 1.34304319, 3.        , 0.        ],\n",
       "       [1.        , 1.46230104, 0.        , 0.        ],\n",
       "       [1.        , 1.46232554, 0.        , 0.        ],\n",
       "       [1.        , 1.08151659, 0.        , 0.        ],\n",
       "       [2.        , 1.34304319, 3.        , 0.        ],\n",
       "       [1.        , 1.3480585 , 0.        , 0.        ],\n",
       "       [1.        , 1.3480585 , 0.        , 0.        ],\n",
       "       [2.        , 1.33976175, 0.        , 0.        ],\n",
       "       [1.        , 1.08990111, 0.        , 0.        ],\n",
       "       [1.        , 1.46232554, 0.        , 0.        ],\n",
       "       [2.        , 1.33976175, 0.        , 0.        ],\n",
       "       [1.        , 1.08570331, 0.        , 0.        ],\n",
       "       [1.        , 1.08534794, 0.        , 0.        ],\n",
       "       [1.        , 1.09419807, 0.        , 0.        ],\n",
       "       [1.        , 1.09431837, 0.        , 0.        ],\n",
       "       [1.        , 1.09433613, 0.        , 0.        ],\n",
       "       [1.        , 1.08646242, 0.        , 0.        ],\n",
       "       [1.        , 1.08151659, 0.        , 0.        ],\n",
       "       [1.        , 1.08990111, 0.        , 0.        ],\n",
       "       [1.        , 1.08534794, 0.        , 0.        ],\n",
       "       [1.        , 1.08570331, 0.        , 0.        ]])"
      ]
     },
     "execution_count": 23,
     "metadata": {},
     "output_type": "execute_result"
    }
   ],
   "source": [
    "graph_tensors['edges']"
   ]
  },
  {
   "cell_type": "code",
   "execution_count": 24,
   "id": "extreme-horse",
   "metadata": {},
   "outputs": [
    {
     "data": {
      "text/plain": [
       "array([[ 0,  1],\n",
       "       [ 0,  9],\n",
       "       [ 0, 10],\n",
       "       [ 0, 11],\n",
       "       [ 1,  2],\n",
       "       [ 1, 12],\n",
       "       [ 1,  0],\n",
       "       [ 2,  3],\n",
       "       [ 2,  4],\n",
       "       [ 2,  1],\n",
       "       [ 3,  2],\n",
       "       [ 4,  5],\n",
       "       [ 4,  2],\n",
       "       [ 4,  7],\n",
       "       [ 5, 13],\n",
       "       [ 5,  4],\n",
       "       [ 5,  6],\n",
       "       [ 6,  5],\n",
       "       [ 7,  8],\n",
       "       [ 7, 14],\n",
       "       [ 7,  4],\n",
       "       [ 8,  7],\n",
       "       [ 8, 16],\n",
       "       [ 8, 15],\n",
       "       [ 9,  0],\n",
       "       [10,  0],\n",
       "       [11,  0],\n",
       "       [12,  1],\n",
       "       [13,  5],\n",
       "       [14,  7],\n",
       "       [15,  8],\n",
       "       [16,  8]])"
      ]
     },
     "execution_count": 24,
     "metadata": {},
     "output_type": "execute_result"
    }
   ],
   "source": [
    "graph_tensors['indices']"
   ]
  },
  {
   "cell_type": "code",
   "execution_count": 25,
   "id": "front-speech",
   "metadata": {},
   "outputs": [
    {
     "data": {
      "text/plain": [
       "array([[0., 1., 0., 0., 0., 0., 0., 0., 0., 1., 1., 1., 0., 0., 0., 0.,\n",
       "        0.],\n",
       "       [1., 0., 1., 0., 0., 0., 0., 0., 0., 0., 0., 0., 1., 0., 0., 0.,\n",
       "        0.],\n",
       "       [0., 1., 0., 1., 1., 0., 0., 0., 0., 0., 0., 0., 0., 0., 0., 0.,\n",
       "        0.],\n",
       "       [0., 0., 1., 0., 0., 0., 0., 0., 0., 0., 0., 0., 0., 0., 0., 0.,\n",
       "        0.],\n",
       "       [0., 0., 1., 0., 0., 1., 0., 1., 0., 0., 0., 0., 0., 0., 0., 0.,\n",
       "        0.],\n",
       "       [0., 0., 0., 0., 1., 0., 1., 0., 0., 0., 0., 0., 0., 1., 0., 0.,\n",
       "        0.],\n",
       "       [0., 0., 0., 0., 0., 1., 0., 0., 0., 0., 0., 0., 0., 0., 0., 0.,\n",
       "        0.],\n",
       "       [0., 0., 0., 0., 1., 0., 0., 0., 1., 0., 0., 0., 0., 0., 1., 0.,\n",
       "        0.],\n",
       "       [0., 0., 0., 0., 0., 0., 0., 1., 0., 0., 0., 0., 0., 0., 0., 1.,\n",
       "        1.],\n",
       "       [1., 0., 0., 0., 0., 0., 0., 0., 0., 0., 0., 0., 0., 0., 0., 0.,\n",
       "        0.],\n",
       "       [1., 0., 0., 0., 0., 0., 0., 0., 0., 0., 0., 0., 0., 0., 0., 0.,\n",
       "        0.],\n",
       "       [1., 0., 0., 0., 0., 0., 0., 0., 0., 0., 0., 0., 0., 0., 0., 0.,\n",
       "        0.],\n",
       "       [0., 1., 0., 0., 0., 0., 0., 0., 0., 0., 0., 0., 0., 0., 0., 0.,\n",
       "        0.],\n",
       "       [0., 0., 0., 0., 0., 1., 0., 0., 0., 0., 0., 0., 0., 0., 0., 0.,\n",
       "        0.],\n",
       "       [0., 0., 0., 0., 0., 0., 0., 1., 0., 0., 0., 0., 0., 0., 0., 0.,\n",
       "        0.],\n",
       "       [0., 0., 0., 0., 0., 0., 0., 0., 1., 0., 0., 0., 0., 0., 0., 0.,\n",
       "        0.],\n",
       "       [0., 0., 0., 0., 0., 0., 0., 0., 1., 0., 0., 0., 0., 0., 0., 0.,\n",
       "        0.]])"
      ]
     },
     "execution_count": 25,
     "metadata": {},
     "output_type": "execute_result"
    }
   ],
   "source": [
    "graph_tensors['adjacency']"
   ]
  },
  {
   "cell_type": "code",
   "execution_count": 26,
   "id": "computational-russian",
   "metadata": {},
   "outputs": [
    {
     "data": {
      "text/plain": [
       "array([17])"
      ]
     },
     "execution_count": 26,
     "metadata": {},
     "output_type": "execute_result"
    }
   ],
   "source": [
    "graph_tensors['state']"
   ]
  },
  {
   "cell_type": "code",
   "execution_count": null,
   "id": "angry-microphone",
   "metadata": {},
   "outputs": [],
   "source": []
  }
 ],
 "metadata": {
  "kernelspec": {
   "display_name": "Python 3",
   "language": "python",
   "name": "python3"
  },
  "language_info": {
   "codemirror_mode": {
    "name": "ipython",
    "version": 3
   },
   "file_extension": ".py",
   "mimetype": "text/x-python",
   "name": "python",
   "nbconvert_exporter": "python",
   "pygments_lexer": "ipython3",
   "version": "3.8.8"
  }
 },
 "nbformat": 4,
 "nbformat_minor": 5
}
