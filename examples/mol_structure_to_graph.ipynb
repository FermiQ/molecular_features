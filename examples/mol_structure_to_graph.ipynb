{
 "cells": [
  {
   "cell_type": "code",
   "execution_count": 21,
   "id": "proud-peter",
   "metadata": {},
   "outputs": [],
   "source": [
    "import numpy as np\n",
    "import rdkit\n",
    "from rdkit.Chem import Draw\n",
    "from rdkit.Chem import AllChem\n",
    "from molreps.graph import MolGraph\n",
    "from molreps.methods.mol_rdkit import rdkit_add_conformer, rdkit_make_mol_from_structure\n",
    "import networkx as nx\n",
    "from molreps.methods.mol_py3d import MolTo3DView\n",
    "from molreps.methods.mol_pybel import ob_get_bond_table_from_coordinates"
   ]
  },
  {
   "cell_type": "code",
   "execution_count": 22,
   "id": "liberal-specific",
   "metadata": {},
   "outputs": [],
   "source": [
    "atoms = ['H',  'C',  'C',  'H',  'C',  'H',  'C',  'C',  'C',  'H',  'C',  'C',  'C',  'H',  'C',  'H',  'C',  'H',  'C',  'H',\n",
    "  'N',  'C',  'C',  'H',  'C',  'C',  'H',  'C',  'H',  'C',  'H',  'N',  'C',  'C',  'C',  'H',  'C',  'H',  'C',  'H',\n",
    "  'C',  'H',  'C',  'C',  'H',  'C',  'H',  'C',  'H',  'C',  'C',  'H']\n",
    "coords = [[162.443, 151.339, 90.0587], [161.919, 150.673, 90.828], [162.48, 150.419, 92.1125], [163.52, 150.776, 92.3212],\n",
    " [161.658, 149.936, 93.1048], [162.19, 149.463, 93.9392], [160.322, 149.646, 92.94], [159.814, 149.86, 91.6296],\n",
    " [160.595, 150.398, 90.5824], [160.132, 150.457, 89.5883], [158.625, 149.187, 91.5436], [158.208, 148.627, 92.8209],\n",
    " [157.158, 147.697, 92.9649], [156.903, 147.351, 93.9223], [156.509, 147.279, 91.8039], [155.711, 146.525, 91.8914],\n",
    " [156.825, 147.809, 90.5316], [156.448, 147.374, 89.6458], [157.886, 148.793, 90.4552], [158.365, 149.106, 89.5204],\n",
    " [159.357, 148.918, 93.6737], [159.21, 149.106, 95.1084], [158.011, 149.495, 95.7454], [157.115, 149.089, 95.3264],\n",
    " [157.817, 149.989, 97.0231], [159.029, 150.074, 97.8357], [159.057, 150.627, 98.8045], [160.232, 149.683, 97.2797],\n",
    " [161.163, 149.675, 97.9014], [160.316, 149.175, 95.9685], [161.29, 148.799, 95.667], [156.859, 150.961, 97.3712],\n",
    " [156.117, 151.762, 96.4181], [155.062, 152.453, 97.1315], [154.062, 153.024, 96.3858], [153.303, 153.692, 96.7559],\n",
    " [154.109, 152.931, 94.9925], [153.305, 153.347, 94.3858], [155.076, 152.238, 94.3189], [155.049, 152.245, 93.2626],\n",
    " [156.116, 151.607, 95.0184], [156.998, 151.333, 94.4559], [155.184, 152.12, 98.4785], [154.651, 152.698, 99.6491],\n",
    " [153.587, 153.064, 99.6051], [155.287, 152.628, 100.869], [154.922, 153.188, 101.715], [156.289, 151.63, 101.029],\n",
    " [156.777, 151.394, 102.021], [156.759, 150.946, 99.8859], [156.291, 151.208, 98.6074], [157.388, 150.033, 100.009]]"
   ]
  },
  {
   "cell_type": "code",
   "execution_count": 23,
   "id": "caring-jacob",
   "metadata": {},
   "outputs": [
    {
     "data": {
      "text/plain": [
       "[[19, 18, 1],\n",
       " [9, 8, 1],\n",
       " [17, 16, 1],\n",
       " [0, 1, 1],\n",
       " [18, 16, 1],\n",
       " [18, 10, 2],\n",
       " [16, 14, 2],\n",
       " [8, 1, 2],\n",
       " [8, 7, 1],\n",
       " [1, 2, 1],\n",
       " [10, 7, 1],\n",
       " [10, 11, 1],\n",
       " [7, 6, 2],\n",
       " [14, 15, 1],\n",
       " [14, 12, 1]]"
      ]
     },
     "execution_count": 23,
     "metadata": {},
     "output_type": "execute_result"
    }
   ],
   "source": [
    "_, _, bondtab, _ = ob_get_bond_table_from_coordinates(atoms,coords)\n",
    "bondtab[:15]"
   ]
  },
  {
   "cell_type": "code",
   "execution_count": 24,
   "id": "interested-viking",
   "metadata": {},
   "outputs": [
    {
     "ename": "TypeError",
     "evalue": "list indices must be integers or slices, not tuple",
     "output_type": "error",
     "traceback": [
      "\u001b[1;31m---------------------------------------------------------------------------\u001b[0m",
      "\u001b[1;31mTypeError\u001b[0m                                 Traceback (most recent call last)",
      "\u001b[1;32m<ipython-input-24-ee05999c95b7>\u001b[0m in \u001b[0;36m<module>\u001b[1;34m\u001b[0m\n\u001b[1;32m----> 1\u001b[1;33m \u001b[0mm\u001b[0m \u001b[1;33m=\u001b[0m \u001b[0mrdkit_make_mol_from_structure\u001b[0m\u001b[1;33m(\u001b[0m\u001b[0matoms\u001b[0m\u001b[1;33m,\u001b[0m \u001b[0mbondtab\u001b[0m\u001b[1;33m,\u001b[0m \u001b[0mcoords\u001b[0m\u001b[1;33m)\u001b[0m\u001b[1;33m\u001b[0m\u001b[1;33m\u001b[0m\u001b[0m\n\u001b[0m",
      "\u001b[1;32m~\\.conda\\envs\\aimat\\lib\\site-packages\\molreps\\methods\\mol_rdkit.py\u001b[0m in \u001b[0;36mrdkit_make_mol_from_structure\u001b[1;34m(atoms, bondlist, coordinates)\u001b[0m\n\u001b[0;32m    113\u001b[0m     \u001b[0mmol\u001b[0m \u001b[1;33m=\u001b[0m \u001b[0mrdkit_mol_from_atoms_bonds\u001b[0m\u001b[1;33m(\u001b[0m\u001b[0matoms\u001b[0m\u001b[1;33m,\u001b[0m \u001b[0mbondlist\u001b[0m\u001b[1;33m)\u001b[0m\u001b[1;33m\u001b[0m\u001b[1;33m\u001b[0m\u001b[0m\n\u001b[0;32m    114\u001b[0m     \u001b[1;32mif\u001b[0m \u001b[0mcoordinates\u001b[0m \u001b[1;32mis\u001b[0m \u001b[1;32mnot\u001b[0m \u001b[1;32mNone\u001b[0m\u001b[1;33m:\u001b[0m\u001b[1;33m\u001b[0m\u001b[1;33m\u001b[0m\u001b[0m\n\u001b[1;32m--> 115\u001b[1;33m         \u001b[0mrdkit_add_conformer\u001b[0m\u001b[1;33m(\u001b[0m\u001b[0mmol\u001b[0m\u001b[1;33m,\u001b[0m \u001b[0mcoordinates\u001b[0m\u001b[1;33m)\u001b[0m\u001b[1;33m\u001b[0m\u001b[1;33m\u001b[0m\u001b[0m\n\u001b[0m\u001b[0;32m    116\u001b[0m     \u001b[1;32mreturn\u001b[0m \u001b[0mmol\u001b[0m\u001b[1;33m\u001b[0m\u001b[1;33m\u001b[0m\u001b[0m\n\u001b[0;32m    117\u001b[0m \u001b[1;33m\u001b[0m\u001b[0m\n",
      "\u001b[1;32m~\\.conda\\envs\\aimat\\lib\\site-packages\\molreps\\methods\\mol_rdkit.py\u001b[0m in \u001b[0;36mrdkit_add_conformer\u001b[1;34m(mol, coords, assign_id)\u001b[0m\n\u001b[0;32m     93\u001b[0m     \u001b[0mconf\u001b[0m \u001b[1;33m=\u001b[0m \u001b[0mrdkit\u001b[0m\u001b[1;33m.\u001b[0m\u001b[0mChem\u001b[0m\u001b[1;33m.\u001b[0m\u001b[0mConformer\u001b[0m\u001b[1;33m(\u001b[0m\u001b[0mlen\u001b[0m\u001b[1;33m(\u001b[0m\u001b[0mcoords\u001b[0m\u001b[1;33m)\u001b[0m\u001b[1;33m)\u001b[0m\u001b[1;33m\u001b[0m\u001b[1;33m\u001b[0m\u001b[0m\n\u001b[0;32m     94\u001b[0m     \u001b[1;32mfor\u001b[0m \u001b[0mi\u001b[0m \u001b[1;32min\u001b[0m \u001b[0mrange\u001b[0m\u001b[1;33m(\u001b[0m\u001b[0mlen\u001b[0m\u001b[1;33m(\u001b[0m\u001b[0mcoords\u001b[0m\u001b[1;33m)\u001b[0m\u001b[1;33m)\u001b[0m\u001b[1;33m:\u001b[0m\u001b[1;33m\u001b[0m\u001b[1;33m\u001b[0m\u001b[0m\n\u001b[1;32m---> 95\u001b[1;33m         \u001b[0mconf\u001b[0m\u001b[1;33m.\u001b[0m\u001b[0mSetAtomPosition\u001b[0m\u001b[1;33m(\u001b[0m\u001b[0mi\u001b[0m\u001b[1;33m,\u001b[0m \u001b[1;33m[\u001b[0m\u001b[0mcoords\u001b[0m\u001b[1;33m[\u001b[0m\u001b[0mi\u001b[0m\u001b[1;33m,\u001b[0m \u001b[1;36m0\u001b[0m\u001b[1;33m]\u001b[0m\u001b[1;33m,\u001b[0m \u001b[0mcoords\u001b[0m\u001b[1;33m[\u001b[0m\u001b[0mi\u001b[0m\u001b[1;33m,\u001b[0m \u001b[1;36m1\u001b[0m\u001b[1;33m]\u001b[0m\u001b[1;33m,\u001b[0m \u001b[0mcoords\u001b[0m\u001b[1;33m[\u001b[0m\u001b[0mi\u001b[0m\u001b[1;33m,\u001b[0m \u001b[1;36m2\u001b[0m\u001b[1;33m]\u001b[0m\u001b[1;33m]\u001b[0m\u001b[1;33m)\u001b[0m\u001b[1;33m\u001b[0m\u001b[1;33m\u001b[0m\u001b[0m\n\u001b[0m\u001b[0;32m     96\u001b[0m     \u001b[0mmol\u001b[0m\u001b[1;33m.\u001b[0m\u001b[0mAddConformer\u001b[0m\u001b[1;33m(\u001b[0m\u001b[0mconf\u001b[0m\u001b[1;33m,\u001b[0m \u001b[0massignId\u001b[0m\u001b[1;33m=\u001b[0m\u001b[0massign_id\u001b[0m\u001b[1;33m)\u001b[0m\u001b[1;33m\u001b[0m\u001b[1;33m\u001b[0m\u001b[0m\n\u001b[0;32m     97\u001b[0m     \u001b[1;32mreturn\u001b[0m \u001b[0mmol\u001b[0m\u001b[1;33m\u001b[0m\u001b[1;33m\u001b[0m\u001b[0m\n",
      "\u001b[1;31mTypeError\u001b[0m: list indices must be integers or slices, not tuple"
     ]
    }
   ],
   "source": [
    "m = rdkit_make_mol_from_structure(atoms, bondtab, coords)"
   ]
  },
  {
   "cell_type": "code",
   "execution_count": null,
   "id": "secret-leonard",
   "metadata": {},
   "outputs": [],
   "source": []
  }
 ],
 "metadata": {
  "kernelspec": {
   "display_name": "Python 3",
   "language": "python",
   "name": "python3"
  },
  "language_info": {
   "codemirror_mode": {
    "name": "ipython",
    "version": 3
   },
   "file_extension": ".py",
   "mimetype": "text/x-python",
   "name": "python",
   "nbconvert_exporter": "python",
   "pygments_lexer": "ipython3",
   "version": "3.8.8"
  }
 },
 "nbformat": 4,
 "nbformat_minor": 5
}
