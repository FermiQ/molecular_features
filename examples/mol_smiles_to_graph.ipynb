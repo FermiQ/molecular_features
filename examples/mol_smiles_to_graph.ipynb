{
 "cells": [
  {
   "cell_type": "code",
   "execution_count": 1,
   "id": "changing-giant",
   "metadata": {},
   "outputs": [],
   "source": [
    "import numpy as np\n",
    "import rdkit\n",
    "from rdkit.Chem import Draw\n",
    "from rdkit.Chem import AllChem\n",
    "from molreps.graph import MolGraph\n",
    "from molreps.methods.mol_rdkit import rdkit_add_conformer\n",
    "import networkx as nx\n",
    "from molreps.methods.mol_py3d import MolTo3DView"
   ]
  },
  {
   "cell_type": "code",
   "execution_count": 2,
   "id": "alone-medication",
   "metadata": {},
   "outputs": [
    {
     "data": {
      "image/png": "[encoded data removed]",
      "text/plain": [
       "<rdkit.Chem.rdchem.Mol at 0x263c124b820>"
      ]
     },
     "execution_count": 2,
     "metadata": {},
     "output_type": "execute_result"
    }
   ],
   "source": [
    "smile = \"C\\C=C(/F)\\C(=C\\F)\\C=C\"\n",
    "# smile = 'CC(C)(C)NC[C@@H](C1=CC(=C(C=C1)O)CO)O'\n",
    "m = rdkit.Chem.MolFromSmiles(smile)\n",
    "m = rdkit.Chem.AddHs(m) # add H's to the molecule\n",
    "# rdkit.Chem.AssignStereochemistry(m) # Assign Stereochemistry\n",
    "rdkit.Chem.FindPotentialStereo(m) # Assign Stereochemistry new method\n",
    "m"
   ]
  },
  {
   "cell_type": "code",
   "execution_count": 3,
   "id": "empty-texas",
   "metadata": {},
   "outputs": [],
   "source": [
    "# if structure is known, then add conformer manually\n",
    "# m = rdkit_add_conformer(m,coords)"
   ]
  },
  {
   "cell_type": "code",
   "execution_count": 4,
   "id": "flexible-economics",
   "metadata": {},
   "outputs": [
    {
     "data": {
      "application/3dmoljs_load.v0": "<div id=\"3dmolviewer_1619447642800328\"  style=\"position: relative; width: 300px; height: 300px\">\n        <p id=\"3dmolwarning_1619447642800328\" style=\"background-color:#ffcccc;color:black\">You appear to be running in JupyterLab (or JavaScript failed to load for some other reason).  You need to install the 3dmol extension: <br>\n        <tt>jupyter labextension install jupyterlab_3dmol</tt></p>\n        </div>\n<script>\n\nvar loadScriptAsync = function(uri){\n  return new Promise((resolve, reject) => {\n    var tag = document.createElement('script');\n    tag.src = uri;\n    tag.async = true;\n    tag.onload = () => {\n      resolve();\n    };\n  var firstScriptTag = document.getElementsByTagName('script')[0];\n  firstScriptTag.parentNode.insertBefore(tag, firstScriptTag);\n});\n};\n\nif(typeof $3Dmolpromise === 'undefined') {\n$3Dmolpromise = null;\n  $3Dmolpromise = loadScriptAsync('https://3dmol.org/build/3Dmol.js');\n}\n\nvar viewer_1619447642800328 = null;\nvar warn = document.getElementById(\"3dmolwarning_1619447642800328\");\nif(warn) {\n    warn.parentNode.removeChild(warn);\n}\n$3Dmolpromise.then(function() {\nviewer_1619447642800328 = $3Dmol.createViewer($(\"#3dmolviewer_1619447642800328\"),{backgroundColor:\"white\"});\nviewer_1619447642800328.zoomTo();\n\tviewer_1619447642800328.addModel(\"\\n     RDKit          3D\\n\\n 17 16  0  0  0  0  0  0  0  0999 V2000\\n    2.7432   -0.3954   -0.1287 C   0  0  0  0  0  0  0  0  0  0  0  0\\n    1.2939   -0.0436   -0.2010 C   0  0  0  0  0  0  0  0  0  0  0  0\\n    0.4957    0.0823    0.8698 C   0  0  0  0  0  0  0  0  0  0  0  0\\n    1.0399   -0.0937    2.0978 F   0  0  0  0  0  0  0  0  0  0  0  0\\n   -0.9213    0.4417    0.8349 C   0  0  0  0  0  0  0  0  0  0  0  0\\n   -1.3971    1.1339    1.8829 C   0  0  0  0  0  0  0  0  0  0  0  0\\n   -2.6779    1.5458    1.9678 F   0  0  0  0  0  0  0  0  0  0  0  0\\n   -1.8482    0.1495   -0.2577 C   0  0  0  0  0  0  0  0  0  0  0  0\\n   -1.8318   -0.9578   -1.0118 C   0  0  0  0  0  0  0  0  0  0  0  0\\n    3.0883   -0.5483    0.8983 H   0  0  0  0  0  0  0  0  0  0  0  0\\n    3.3426    0.4051   -0.5731 H   0  0  0  0  0  0  0  0  0  0  0  0\\n    2.9300   -1.3160   -0.6902 H   0  0  0  0  0  0  0  0  0  0  0  0\\n    0.8959    0.1241   -1.1979 H   0  0  0  0  0  0  0  0  0  0  0  0\\n   -0.8426    1.4395    2.7597 H   0  0  0  0  0  0  0  0  0  0  0  0\\n   -2.6326    0.8854   -0.4342 H   0  0  0  0  0  0  0  0  0  0  0  0\\n   -1.1039   -1.7497   -0.8664 H   0  0  0  0  0  0  0  0  0  0  0  0\\n   -2.5742   -1.1029   -1.7905 H   0  0  0  0  0  0  0  0  0  0  0  0\\n  1  2  1  0\\n  2  3  2  0\\n  3  4  1  0\\n  3  5  1  0\\n  5  6  2  0\\n  6  7  1  0\\n  5  8  1  0\\n  8  9  2  0\\n  1 10  1  0\\n  1 11  1  0\\n  1 12  1  0\\n  2 13  1  0\\n  6 14  1  0\\n  8 15  1  0\\n  9 16  1  0\\n  9 17  1  0\\nM  END\\n\",\"mol\");\n\tviewer_1619447642800328.setStyle({\"stick\": {}});\n\tviewer_1619447642800328.zoomTo();\nviewer_1619447642800328.render();\n});\n</script>",
      "text/html": [
       "<div id=\"3dmolviewer_1619447642800328\"  style=\"position: relative; width: 300px; height: 300px\">\n",
       "        <p id=\"3dmolwarning_1619447642800328\" style=\"background-color:#ffcccc;color:black\">You appear to be running in JupyterLab (or JavaScript failed to load for some other reason).  You need to install the 3dmol extension: <br>\n",
       "        <tt>jupyter labextension install jupyterlab_3dmol</tt></p>\n",
       "        </div>\n",
       "<script>\n",
       "\n",
       "var loadScriptAsync = function(uri){\n",
       "  return new Promise((resolve, reject) => {\n",
       "    var tag = document.createElement('script');\n",
       "    tag.src = uri;\n",
       "    tag.async = true;\n",
       "    tag.onload = () => {\n",
       "      resolve();\n",
       "    };\n",
       "  var firstScriptTag = document.getElementsByTagName('script')[0];\n",
       "  firstScriptTag.parentNode.insertBefore(tag, firstScriptTag);\n",
       "});\n",
       "};\n",
       "\n",
       "if(typeof $3Dmolpromise === 'undefined') {\n",
       "$3Dmolpromise = null;\n",
       "  $3Dmolpromise = loadScriptAsync('https://3dmol.org/build/3Dmol.js');\n",
       "}\n",
       "\n",
       "var viewer_1619447642800328 = null;\n",
       "var warn = document.getElementById(\"3dmolwarning_1619447642800328\");\n",
       "if(warn) {\n",
       "    warn.parentNode.removeChild(warn);\n",
       "}\n",
       "$3Dmolpromise.then(function() {\n",
       "viewer_1619447642800328 = $3Dmol.createViewer($(\"#3dmolviewer_1619447642800328\"),{backgroundColor:\"white\"});\n",
       "viewer_1619447642800328.zoomTo();\n",
       "\tviewer_1619447642800328.addModel(\"\\n     RDKit          3D\\n\\n 17 16  0  0  0  0  0  0  0  0999 V2000\\n    2.7432   -0.3954   -0.1287 C   0  0  0  0  0  0  0  0  0  0  0  0\\n    1.2939   -0.0436   -0.2010 C   0  0  0  0  0  0  0  0  0  0  0  0\\n    0.4957    0.0823    0.8698 C   0  0  0  0  0  0  0  0  0  0  0  0\\n    1.0399   -0.0937    2.0978 F   0  0  0  0  0  0  0  0  0  0  0  0\\n   -0.9213    0.4417    0.8349 C   0  0  0  0  0  0  0  0  0  0  0  0\\n   -1.3971    1.1339    1.8829 C   0  0  0  0  0  0  0  0  0  0  0  0\\n   -2.6779    1.5458    1.9678 F   0  0  0  0  0  0  0  0  0  0  0  0\\n   -1.8482    0.1495   -0.2577 C   0  0  0  0  0  0  0  0  0  0  0  0\\n   -1.8318   -0.9578   -1.0118 C   0  0  0  0  0  0  0  0  0  0  0  0\\n    3.0883   -0.5483    0.8983 H   0  0  0  0  0  0  0  0  0  0  0  0\\n    3.3426    0.4051   -0.5731 H   0  0  0  0  0  0  0  0  0  0  0  0\\n    2.9300   -1.3160   -0.6902 H   0  0  0  0  0  0  0  0  0  0  0  0\\n    0.8959    0.1241   -1.1979 H   0  0  0  0  0  0  0  0  0  0  0  0\\n   -0.8426    1.4395    2.7597 H   0  0  0  0  0  0  0  0  0  0  0  0\\n   -2.6326    0.8854   -0.4342 H   0  0  0  0  0  0  0  0  0  0  0  0\\n   -1.1039   -1.7497   -0.8664 H   0  0  0  0  0  0  0  0  0  0  0  0\\n   -2.5742   -1.1029   -1.7905 H   0  0  0  0  0  0  0  0  0  0  0  0\\n  1  2  1  0\\n  2  3  2  0\\n  3  4  1  0\\n  3  5  1  0\\n  5  6  2  0\\n  6  7  1  0\\n  5  8  1  0\\n  8  9  2  0\\n  1 10  1  0\\n  1 11  1  0\\n  1 12  1  0\\n  2 13  1  0\\n  6 14  1  0\\n  8 15  1  0\\n  9 16  1  0\\n  9 17  1  0\\nM  END\\n\",\"mol\");\n",
       "\tviewer_1619447642800328.setStyle({\"stick\": {}});\n",
       "\tviewer_1619447642800328.zoomTo();\n",
       "viewer_1619447642800328.render();\n",
       "});\n",
       "</script>"
      ]
     },
     "metadata": {},
     "output_type": "display_data"
    },
    {
     "data": {
      "text/plain": [
       "<py3Dmol.view at 0x263c126cd60>"
      ]
     },
     "execution_count": 4,
     "metadata": {},
     "output_type": "execute_result"
    }
   ],
   "source": [
    "# If no coordinates are known, do embedding with rdkit\n",
    "AllChem.EmbedMolecule(m)\n",
    "AllChem.MMFFOptimizeMolecule(m)\n",
    "# Plot molecule 3D\n",
    "MolTo3DView(m)"
   ]
  },
  {
   "cell_type": "code",
   "execution_count": 5,
   "id": "coated-patient",
   "metadata": {},
   "outputs": [
    {
     "data": {
      "text/plain": [
       "{'rdkit': {'nodes': ['AtomicNum',\n",
       "   'Symbol',\n",
       "   'NumExplicitHs',\n",
       "   'NumImplicitHs',\n",
       "   'IsAromatic',\n",
       "   'TotalDegree',\n",
       "   'TotalValence',\n",
       "   'Mass',\n",
       "   'IsInRing',\n",
       "   'Hybridization',\n",
       "   'ChiralTag',\n",
       "   'FormalCharge',\n",
       "   'ImplicitValence',\n",
       "   'NumRadicalElectrons'],\n",
       "  'edges': ['BondType',\n",
       "   'IsAromatic',\n",
       "   'IsConjugated',\n",
       "   'IsInRing',\n",
       "   'Stereo',\n",
       "   'Distance'],\n",
       "  'state': ['NumAtoms', 'ExactMolWt']}}"
      ]
     },
     "execution_count": 5,
     "metadata": {},
     "output_type": "execute_result"
    }
   ],
   "source": [
    "# Preimplemented features\n",
    "mgraph = MolGraph(m)\n",
    "mgraph._mols_implemented"
   ]
  },
  {
   "cell_type": "code",
   "execution_count": 6,
   "id": "vocational-clinic",
   "metadata": {},
   "outputs": [
    {
     "data": {
      "image/png": "[encoded data removed]",
      "text/plain": [
       "<Figure size 432x288 with 1 Axes>"
      ]
     },
     "metadata": {},
     "output_type": "display_data"
    }
   ],
   "source": [
    "mgraph.make(nodes=['AtomicNum','TotalValence','ChiralTag','Hybridization','NumRadicalElectrons'], \n",
    "            edges=['BondType','Distance','Stereo','IsInRing'],\n",
    "            state=['NumAtoms'])\n",
    "nx.draw(mgraph,with_labels=True)"
   ]
  },
  {
   "cell_type": "code",
   "execution_count": 7,
   "id": "moderate-experience",
   "metadata": {},
   "outputs": [
    {
     "data": {
      "text/plain": [
       "EdgeDataView([(0, 1, {'BondType': rdkit.Chem.rdchem.BondType.SINGLE, 'Distance': 1.4931292518563004, 'Stereo': rdkit.Chem.rdchem.BondStereo.STEREONONE, 'IsInRing': False}), (0, 9, {'BondType': rdkit.Chem.rdchem.BondType.SINGLE, 'Distance': 1.0941981755708317, 'Stereo': rdkit.Chem.rdchem.BondStereo.STEREONONE, 'IsInRing': False}), (0, 10, {'BondType': rdkit.Chem.rdchem.BondType.SINGLE, 'Distance': 1.0943188121661989, 'Stereo': rdkit.Chem.rdchem.BondStereo.STEREONONE, 'IsInRing': False}), (0, 11, {'BondType': rdkit.Chem.rdchem.BondType.SINGLE, 'Distance': 1.0943366656152493, 'Stereo': rdkit.Chem.rdchem.BondStereo.STEREONONE, 'IsInRing': False}), (1, 2, {'BondType': rdkit.Chem.rdchem.BondType.DOUBLE, 'Distance': 1.3415068367902407, 'Stereo': rdkit.Chem.rdchem.BondStereo.STEREOZ, 'IsInRing': False}), (1, 12, {'BondType': rdkit.Chem.rdchem.BondType.SINGLE, 'Distance': 1.086462802780352, 'Stereo': rdkit.Chem.rdchem.BondStereo.STEREONONE, 'IsInRing': False}), (2, 3, {'BondType': rdkit.Chem.rdchem.BondType.SINGLE, 'Distance': 1.354621827126598, 'Stereo': rdkit.Chem.rdchem.BondStereo.STEREONONE, 'IsInRing': False}), (2, 4, {'BondType': rdkit.Chem.rdchem.BondType.SINGLE, 'Distance': 1.462300760058123, 'Stereo': rdkit.Chem.rdchem.BondStereo.STEREONONE, 'IsInRing': False}), (4, 5, {'BondType': rdkit.Chem.rdchem.BondType.DOUBLE, 'Distance': 1.34304314023487, 'Stereo': rdkit.Chem.rdchem.BondStereo.STEREOE, 'IsInRing': False}), (4, 7, {'BondType': rdkit.Chem.rdchem.BondType.SINGLE, 'Distance': 1.4623256085347813, 'Stereo': rdkit.Chem.rdchem.BondStereo.STEREONONE, 'IsInRing': False}), (5, 6, {'BondType': rdkit.Chem.rdchem.BondType.SINGLE, 'Distance': 1.3480585198658184, 'Stereo': rdkit.Chem.rdchem.BondStereo.STEREONONE, 'IsInRing': False}), (5, 13, {'BondType': rdkit.Chem.rdchem.BondType.SINGLE, 'Distance': 1.0815167083134392, 'Stereo': rdkit.Chem.rdchem.BondStereo.STEREONONE, 'IsInRing': False}), (7, 8, {'BondType': rdkit.Chem.rdchem.BondType.DOUBLE, 'Distance': 1.3397618534316642, 'Stereo': rdkit.Chem.rdchem.BondStereo.STEREONONE, 'IsInRing': False}), (7, 14, {'BondType': rdkit.Chem.rdchem.BondType.SINGLE, 'Distance': 1.0899012228195648, 'Stereo': rdkit.Chem.rdchem.BondStereo.STEREONONE, 'IsInRing': False}), (8, 15, {'BondType': rdkit.Chem.rdchem.BondType.SINGLE, 'Distance': 1.0853480278203023, 'Stereo': rdkit.Chem.rdchem.BondStereo.STEREONONE, 'IsInRing': False}), (8, 16, {'BondType': rdkit.Chem.rdchem.BondType.SINGLE, 'Distance': 1.0857033787340715, 'Stereo': rdkit.Chem.rdchem.BondStereo.STEREONONE, 'IsInRing': False})])"
      ]
     },
     "execution_count": 7,
     "metadata": {},
     "output_type": "execute_result"
    }
   ],
   "source": [
    "mgraph.edges.data()"
   ]
  },
  {
   "cell_type": "code",
   "execution_count": 8,
   "id": "lonely-deposit",
   "metadata": {},
   "outputs": [
    {
     "data": {
      "text/plain": [
       "NodeDataView({0: {'AtomicNum': 6, 'TotalValence': 4, 'ChiralTag': rdkit.Chem.rdchem.ChiralType.CHI_UNSPECIFIED, 'Hybridization': rdkit.Chem.rdchem.HybridizationType.SP3, 'NumRadicalElectrons': 0}, 1: {'AtomicNum': 6, 'TotalValence': 4, 'ChiralTag': rdkit.Chem.rdchem.ChiralType.CHI_UNSPECIFIED, 'Hybridization': rdkit.Chem.rdchem.HybridizationType.SP2, 'NumRadicalElectrons': 0}, 2: {'AtomicNum': 6, 'TotalValence': 4, 'ChiralTag': rdkit.Chem.rdchem.ChiralType.CHI_UNSPECIFIED, 'Hybridization': rdkit.Chem.rdchem.HybridizationType.SP2, 'NumRadicalElectrons': 0}, 3: {'AtomicNum': 9, 'TotalValence': 1, 'ChiralTag': rdkit.Chem.rdchem.ChiralType.CHI_UNSPECIFIED, 'Hybridization': rdkit.Chem.rdchem.HybridizationType.SP3, 'NumRadicalElectrons': 0}, 4: {'AtomicNum': 6, 'TotalValence': 4, 'ChiralTag': rdkit.Chem.rdchem.ChiralType.CHI_UNSPECIFIED, 'Hybridization': rdkit.Chem.rdchem.HybridizationType.SP2, 'NumRadicalElectrons': 0}, 5: {'AtomicNum': 6, 'TotalValence': 4, 'ChiralTag': rdkit.Chem.rdchem.ChiralType.CHI_UNSPECIFIED, 'Hybridization': rdkit.Chem.rdchem.HybridizationType.SP2, 'NumRadicalElectrons': 0}, 6: {'AtomicNum': 9, 'TotalValence': 1, 'ChiralTag': rdkit.Chem.rdchem.ChiralType.CHI_UNSPECIFIED, 'Hybridization': rdkit.Chem.rdchem.HybridizationType.SP3, 'NumRadicalElectrons': 0}, 7: {'AtomicNum': 6, 'TotalValence': 4, 'ChiralTag': rdkit.Chem.rdchem.ChiralType.CHI_UNSPECIFIED, 'Hybridization': rdkit.Chem.rdchem.HybridizationType.SP2, 'NumRadicalElectrons': 0}, 8: {'AtomicNum': 6, 'TotalValence': 4, 'ChiralTag': rdkit.Chem.rdchem.ChiralType.CHI_UNSPECIFIED, 'Hybridization': rdkit.Chem.rdchem.HybridizationType.SP2, 'NumRadicalElectrons': 0}, 9: {'AtomicNum': 1, 'TotalValence': 1, 'ChiralTag': rdkit.Chem.rdchem.ChiralType.CHI_UNSPECIFIED, 'Hybridization': rdkit.Chem.rdchem.HybridizationType.UNSPECIFIED, 'NumRadicalElectrons': 0}, 10: {'AtomicNum': 1, 'TotalValence': 1, 'ChiralTag': rdkit.Chem.rdchem.ChiralType.CHI_UNSPECIFIED, 'Hybridization': rdkit.Chem.rdchem.HybridizationType.UNSPECIFIED, 'NumRadicalElectrons': 0}, 11: {'AtomicNum': 1, 'TotalValence': 1, 'ChiralTag': rdkit.Chem.rdchem.ChiralType.CHI_UNSPECIFIED, 'Hybridization': rdkit.Chem.rdchem.HybridizationType.UNSPECIFIED, 'NumRadicalElectrons': 0}, 12: {'AtomicNum': 1, 'TotalValence': 1, 'ChiralTag': rdkit.Chem.rdchem.ChiralType.CHI_UNSPECIFIED, 'Hybridization': rdkit.Chem.rdchem.HybridizationType.UNSPECIFIED, 'NumRadicalElectrons': 0}, 13: {'AtomicNum': 1, 'TotalValence': 1, 'ChiralTag': rdkit.Chem.rdchem.ChiralType.CHI_UNSPECIFIED, 'Hybridization': rdkit.Chem.rdchem.HybridizationType.UNSPECIFIED, 'NumRadicalElectrons': 0}, 14: {'AtomicNum': 1, 'TotalValence': 1, 'ChiralTag': rdkit.Chem.rdchem.ChiralType.CHI_UNSPECIFIED, 'Hybridization': rdkit.Chem.rdchem.HybridizationType.UNSPECIFIED, 'NumRadicalElectrons': 0}, 15: {'AtomicNum': 1, 'TotalValence': 1, 'ChiralTag': rdkit.Chem.rdchem.ChiralType.CHI_UNSPECIFIED, 'Hybridization': rdkit.Chem.rdchem.HybridizationType.UNSPECIFIED, 'NumRadicalElectrons': 0}, 16: {'AtomicNum': 1, 'TotalValence': 1, 'ChiralTag': rdkit.Chem.rdchem.ChiralType.CHI_UNSPECIFIED, 'Hybridization': rdkit.Chem.rdchem.HybridizationType.UNSPECIFIED, 'NumRadicalElectrons': 0}})"
      ]
     },
     "execution_count": 8,
     "metadata": {},
     "output_type": "execute_result"
    }
   ],
   "source": [
    "mgraph.nodes.data()"
   ]
  },
  {
   "cell_type": "code",
   "execution_count": 9,
   "id": "exotic-distance",
   "metadata": {},
   "outputs": [
    {
     "data": {
      "text/plain": [
       "{'NumAtoms': 17}"
      ]
     },
     "execution_count": 9,
     "metadata": {},
     "output_type": "execute_result"
    }
   ],
   "source": [
    "mgraph._graph_state"
   ]
  },
  {
   "cell_type": "code",
   "execution_count": 10,
   "id": "unsigned-architect",
   "metadata": {},
   "outputs": [
    {
     "data": {
      "text/plain": [
       "array([[6, 4, 0, 4, 0],\n",
       "       [6, 4, 0, 3, 0],\n",
       "       [6, 4, 0, 3, 0],\n",
       "       [9, 1, 0, 4, 0],\n",
       "       [6, 4, 0, 3, 0],\n",
       "       [6, 4, 0, 3, 0],\n",
       "       [9, 1, 0, 4, 0],\n",
       "       [6, 4, 0, 3, 0],\n",
       "       [6, 4, 0, 3, 0],\n",
       "       [1, 1, 0, 0, 0],\n",
       "       [1, 1, 0, 0, 0],\n",
       "       [1, 1, 0, 0, 0],\n",
       "       [1, 1, 0, 0, 0],\n",
       "       [1, 1, 0, 0, 0],\n",
       "       [1, 1, 0, 0, 0],\n",
       "       [1, 1, 0, 0, 0],\n",
       "       [1, 1, 0, 0, 0]])"
      ]
     },
     "execution_count": 10,
     "metadata": {},
     "output_type": "execute_result"
    }
   ],
   "source": [
    "graph_tensors = mgraph.to_tensor(nodes=['AtomicNum','TotalValence','ChiralTag','Hybridization','NumRadicalElectrons'], \n",
    "                                edges=['BondType','Distance','Stereo','IsInRing'],\n",
    "                                state=['NumAtoms'])\n",
    "graph_tensors['nodes']"
   ]
  },
  {
   "cell_type": "code",
   "execution_count": 11,
   "id": "dramatic-midwest",
   "metadata": {},
   "outputs": [
    {
     "data": {
      "text/plain": [
       "array([[1.        , 1.49312925, 0.        , 0.        ],\n",
       "       [1.        , 1.09419818, 0.        , 0.        ],\n",
       "       [1.        , 1.09431881, 0.        , 0.        ],\n",
       "       [1.        , 1.09433667, 0.        , 0.        ],\n",
       "       [1.        , 1.49312925, 0.        , 0.        ],\n",
       "       [2.        , 1.34150684, 2.        , 0.        ],\n",
       "       [1.        , 1.0864628 , 0.        , 0.        ],\n",
       "       [2.        , 1.34150684, 2.        , 0.        ],\n",
       "       [1.        , 1.35462183, 0.        , 0.        ],\n",
       "       [1.        , 1.46230076, 0.        , 0.        ],\n",
       "       [1.        , 1.35462183, 0.        , 0.        ],\n",
       "       [1.        , 1.46230076, 0.        , 0.        ],\n",
       "       [2.        , 1.34304314, 3.        , 0.        ],\n",
       "       [1.        , 1.46232561, 0.        , 0.        ],\n",
       "       [2.        , 1.34304314, 3.        , 0.        ],\n",
       "       [1.        , 1.34805852, 0.        , 0.        ],\n",
       "       [1.        , 1.08151671, 0.        , 0.        ],\n",
       "       [1.        , 1.34805852, 0.        , 0.        ],\n",
       "       [1.        , 1.46232561, 0.        , 0.        ],\n",
       "       [2.        , 1.33976185, 0.        , 0.        ],\n",
       "       [1.        , 1.08990122, 0.        , 0.        ],\n",
       "       [2.        , 1.33976185, 0.        , 0.        ],\n",
       "       [1.        , 1.08534803, 0.        , 0.        ],\n",
       "       [1.        , 1.08570338, 0.        , 0.        ],\n",
       "       [1.        , 1.09419818, 0.        , 0.        ],\n",
       "       [1.        , 1.09431881, 0.        , 0.        ],\n",
       "       [1.        , 1.09433667, 0.        , 0.        ],\n",
       "       [1.        , 1.0864628 , 0.        , 0.        ],\n",
       "       [1.        , 1.08151671, 0.        , 0.        ],\n",
       "       [1.        , 1.08990122, 0.        , 0.        ],\n",
       "       [1.        , 1.08534803, 0.        , 0.        ],\n",
       "       [1.        , 1.08570338, 0.        , 0.        ]])"
      ]
     },
     "execution_count": 11,
     "metadata": {},
     "output_type": "execute_result"
    }
   ],
   "source": [
    "graph_tensors['edges']"
   ]
  },
  {
   "cell_type": "code",
   "execution_count": 12,
   "id": "extreme-horse",
   "metadata": {},
   "outputs": [
    {
     "data": {
      "text/plain": [
       "array([[ 0,  1],\n",
       "       [ 0,  9],\n",
       "       [ 0, 10],\n",
       "       [ 0, 11],\n",
       "       [ 1,  0],\n",
       "       [ 1,  2],\n",
       "       [ 1, 12],\n",
       "       [ 2,  1],\n",
       "       [ 2,  3],\n",
       "       [ 2,  4],\n",
       "       [ 3,  2],\n",
       "       [ 4,  2],\n",
       "       [ 4,  5],\n",
       "       [ 4,  7],\n",
       "       [ 5,  4],\n",
       "       [ 5,  6],\n",
       "       [ 5, 13],\n",
       "       [ 6,  5],\n",
       "       [ 7,  4],\n",
       "       [ 7,  8],\n",
       "       [ 7, 14],\n",
       "       [ 8,  7],\n",
       "       [ 8, 15],\n",
       "       [ 8, 16],\n",
       "       [ 9,  0],\n",
       "       [10,  0],\n",
       "       [11,  0],\n",
       "       [12,  1],\n",
       "       [13,  5],\n",
       "       [14,  7],\n",
       "       [15,  8],\n",
       "       [16,  8]])"
      ]
     },
     "execution_count": 12,
     "metadata": {},
     "output_type": "execute_result"
    }
   ],
   "source": [
    "graph_tensors['indices']"
   ]
  },
  {
   "cell_type": "code",
   "execution_count": 13,
   "id": "front-speech",
   "metadata": {},
   "outputs": [
    {
     "data": {
      "text/plain": [
       "array([[0., 1., 0., 0., 0., 0., 0., 0., 0., 1., 1., 1., 0., 0., 0., 0.,\n",
       "        0.],\n",
       "       [1., 0., 1., 0., 0., 0., 0., 0., 0., 0., 0., 0., 1., 0., 0., 0.,\n",
       "        0.],\n",
       "       [0., 1., 0., 1., 1., 0., 0., 0., 0., 0., 0., 0., 0., 0., 0., 0.,\n",
       "        0.],\n",
       "       [0., 0., 1., 0., 0., 0., 0., 0., 0., 0., 0., 0., 0., 0., 0., 0.,\n",
       "        0.],\n",
       "       [0., 0., 1., 0., 0., 1., 0., 1., 0., 0., 0., 0., 0., 0., 0., 0.,\n",
       "        0.],\n",
       "       [0., 0., 0., 0., 1., 0., 1., 0., 0., 0., 0., 0., 0., 1., 0., 0.,\n",
       "        0.],\n",
       "       [0., 0., 0., 0., 0., 1., 0., 0., 0., 0., 0., 0., 0., 0., 0., 0.,\n",
       "        0.],\n",
       "       [0., 0., 0., 0., 1., 0., 0., 0., 1., 0., 0., 0., 0., 0., 1., 0.,\n",
       "        0.],\n",
       "       [0., 0., 0., 0., 0., 0., 0., 1., 0., 0., 0., 0., 0., 0., 0., 1.,\n",
       "        1.],\n",
       "       [1., 0., 0., 0., 0., 0., 0., 0., 0., 0., 0., 0., 0., 0., 0., 0.,\n",
       "        0.],\n",
       "       [1., 0., 0., 0., 0., 0., 0., 0., 0., 0., 0., 0., 0., 0., 0., 0.,\n",
       "        0.],\n",
       "       [1., 0., 0., 0., 0., 0., 0., 0., 0., 0., 0., 0., 0., 0., 0., 0.,\n",
       "        0.],\n",
       "       [0., 1., 0., 0., 0., 0., 0., 0., 0., 0., 0., 0., 0., 0., 0., 0.,\n",
       "        0.],\n",
       "       [0., 0., 0., 0., 0., 1., 0., 0., 0., 0., 0., 0., 0., 0., 0., 0.,\n",
       "        0.],\n",
       "       [0., 0., 0., 0., 0., 0., 0., 1., 0., 0., 0., 0., 0., 0., 0., 0.,\n",
       "        0.],\n",
       "       [0., 0., 0., 0., 0., 0., 0., 0., 1., 0., 0., 0., 0., 0., 0., 0.,\n",
       "        0.],\n",
       "       [0., 0., 0., 0., 0., 0., 0., 0., 1., 0., 0., 0., 0., 0., 0., 0.,\n",
       "        0.]])"
      ]
     },
     "execution_count": 13,
     "metadata": {},
     "output_type": "execute_result"
    }
   ],
   "source": [
    "graph_tensors['adjacency']"
   ]
  },
  {
   "cell_type": "code",
   "execution_count": 14,
   "id": "computational-russian",
   "metadata": {},
   "outputs": [
    {
     "data": {
      "text/plain": [
       "array([17])"
      ]
     },
     "execution_count": 14,
     "metadata": {},
     "output_type": "execute_result"
    }
   ],
   "source": [
    "graph_tensors['state']"
   ]
  },
  {
   "cell_type": "code",
   "execution_count": 16,
   "id": "angry-microphone",
   "metadata": {},
   "outputs": [
    {
     "data": {
      "text/plain": [
       "'\\n     RDKit          3D\\n\\n 17 16  0  0  0  0  0  0  0  0999 V2000\\n    2.7432   -0.3954   -0.1287 C   0  0  0  0  0  0  0  0  0  0  0  0\\n    1.2939   -0.0436   -0.2010 C   0  0  0  0  0  0  0  0  0  0  0  0\\n    0.4957    0.0823    0.8698 C   0  0  0  0  0  0  0  0  0  0  0  0\\n    1.0399   -0.0937    2.0978 F   0  0  0  0  0  0  0  0  0  0  0  0\\n   -0.9213    0.4417    0.8349 C   0  0  0  0  0  0  0  0  0  0  0  0\\n   -1.3971    1.1339    1.8829 C   0  0  0  0  0  0  0  0  0  0  0  0\\n   -2.6779    1.5458    1.9678 F   0  0  0  0  0  0  0  0  0  0  0  0\\n   -1.8482    0.1495   -0.2577 C   0  0  0  0  0  0  0  0  0  0  0  0\\n   -1.8318   -0.9578   -1.0118 C   0  0  0  0  0  0  0  0  0  0  0  0\\n    3.0883   -0.5483    0.8983 H   0  0  0  0  0  0  0  0  0  0  0  0\\n    3.3426    0.4051   -0.5731 H   0  0  0  0  0  0  0  0  0  0  0  0\\n    2.9300   -1.3160   -0.6902 H   0  0  0  0  0  0  0  0  0  0  0  0\\n    0.8959    0.1241   -1.1979 H   0  0  0  0  0  0  0  0  0  0  0  0\\n   -0.8426    1.4395    2.7597 H   0  0  0  0  0  0  0  0  0  0  0  0\\n   -2.6326    0.8854   -0.4342 H   0  0  0  0  0  0  0  0  0  0  0  0\\n   -1.1039   -1.7497   -0.8664 H   0  0  0  0  0  0  0  0  0  0  0  0\\n   -2.5742   -1.1029   -1.7905 H   0  0  0  0  0  0  0  0  0  0  0  0\\n  1  2  1  0\\n  2  3  2  0\\n  3  4  1  0\\n  3  5  1  0\\n  5  6  2  0\\n  6  7  1  0\\n  5  8  1  0\\n  8  9  2  0\\n  1 10  1  0\\n  1 11  1  0\\n  1 12  1  0\\n  2 13  1  0\\n  6 14  1  0\\n  8 15  1  0\\n  9 16  1  0\\n  9 17  1  0\\nM  END\\n'"
      ]
     },
     "execution_count": 16,
     "metadata": {},
     "output_type": "execute_result"
    }
   ],
   "source": [
    "rdkit.Chem.MolToMolBlock(m)"
   ]
  },
  {
   "cell_type": "code",
   "execution_count": null,
   "id": "personalized-hypothetical",
   "metadata": {},
   "outputs": [],
   "source": []
  }
 ],
 "metadata": {
  "kernelspec": {
   "display_name": "Python 3",
   "language": "python",
   "name": "python3"
  },
  "language_info": {
   "codemirror_mode": {
    "name": "ipython",
    "version": 3
   },
   "file_extension": ".py",
   "mimetype": "text/x-python",
   "name": "python",
   "nbconvert_exporter": "python",
   "pygments_lexer": "ipython3",
   "version": "3.8.8"
  }
 },
 "nbformat": 4,
 "nbformat_minor": 5
}
